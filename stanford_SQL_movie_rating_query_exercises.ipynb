{
 "cells": [
  {
   "cell_type": "markdown",
   "metadata": {},
   "source": [
    "You've started a new movie-rating website, and you've been collecting data on reviewers' ratings of various movies. There's not much data yet, but you can still try out some interesting queries. Here's the schema:\n",
    "\n",
    "Movie ( mID, title, year, director )\n",
    "English: There is a movie with ID number mID, a title, a release year, and a director.\n",
    "\n",
    "Reviewer ( rID, name )\n",
    "English: The reviewer with ID number rID has a certain name.\n",
    "\n",
    "Rating ( rID, mID, stars, ratingDate )\n",
    "English: The reviewer rID gave the movie mID a number of stars rating (1-5) on a certain ratingDate.\n",
    "\n",
    "Your queries will run over a small data set conforming to the schema. View the database. (You can also download the schema and data.)\n",
    "\n",
    "Instructions: Each problem asks you to write a query in SQL. "
   ]
  },
  {
   "cell_type": "code",
   "execution_count": null,
   "metadata": {},
   "outputs": [],
   "source": [
    "# 1. Find the titles of all movies directed by Steven Spielberg.\n",
    "\n",
    "SELECT title\n",
    "FROM movie\n",
    "WHERE director = 'Steven Spielberg';"
   ]
  },
  {
   "cell_type": "code",
   "execution_count": null,
   "metadata": {},
   "outputs": [],
   "source": [
    "# 2. Find all years that have a movie that received a rating of 4 or 5, and sort them in increasing order.\n",
    "\n",
    "SELECT DISTINCT m.year\n",
    "FROM movie m\n",
    "    JOIN rating r\n",
    "        ON m.mID = r.mID\n",
    "WHERE r.stars IN (4, 5)\n",
    "ORDER BY year;"
   ]
  },
  {
   "cell_type": "code",
   "execution_count": null,
   "metadata": {},
   "outputs": [],
   "source": [
    "# 3. Find the titles of all movies that have no ratings.\n",
    "\n",
    "SELECT DISTINCT m.title\n",
    "FROM movie m\n",
    "    LEFT JOIN rating r\n",
    "        ON m.mID = r.mID\n",
    "WHERE r.stars IS NULL;"
   ]
  },
  {
   "cell_type": "code",
   "execution_count": null,
   "metadata": {},
   "outputs": [],
   "source": [
    "# 4. Some reviewers didn't provide a date \n",
    "# with their rating. Find the names of \n",
    "# all reviewers who have ratings with a \n",
    "# NULL value for the date.\n",
    "\n",
    "SELECT rev.name\n",
    "FROM rating r\n",
    "    JOIN reviewer rev\n",
    "        ON r.rID = rev.rID\n",
    "WHERE r.ratingDate IS NULL;"
   ]
  },
  {
   "cell_type": "code",
   "execution_count": null,
   "metadata": {},
   "outputs": [],
   "source": [
    "# 5. Write a query to return the ratings \n",
    "# data in a more readable format: \n",
    "# reviewer name, movie title, stars, \n",
    "# and ratingDate. Also, sort the data, \n",
    "# first by reviewer name, then by movie \n",
    "# title, and lastly by number of stars.\n",
    "\n",
    "SELECT rev.name, m.title, r.stars, r.ratingDate\n",
    "FROM movie m\n",
    "    JOIN rating r\n",
    "        ON m.mID = r.mID\n",
    "            JOIN reviewer rev\n",
    "                ON r.rID = rev.rID\n",
    "ORDER BY 1, 2, 3;"
   ]
  },
  {
   "cell_type": "code",
   "execution_count": null,
   "metadata": {},
   "outputs": [],
   "source": [
    "# 6. For all cases where the same reviewer \n",
    "# rated the same movie twice and gave it \n",
    "# a higher rating the second time, return the \n",
    "# reviewer's name and the title of the movie.\n",
    "\n",
    "SELECT rev.name, m.title\n",
    "FROM movie m\n",
    "JOIN rating r1 ON m.mID = r1.mID\n",
    "JOIN rating r2 ON r1.rID = r2.rID\n",
    "JOIN reviewer rev ON r2.rID = rev.rID\n",
    "WHERE r1.mID = r2.mID AND r1.ratingDate > r2.ratingDate AND r1.stars > r2.stars;"
   ]
  },
  {
   "cell_type": "code",
   "execution_count": null,
   "metadata": {},
   "outputs": [],
   "source": [
    "# 7. For each movie that has at least one rating, \n",
    "# find the highest number of stars that movie \n",
    "# received. Return the movie title and number \n",
    "# of stars. Sort by movie title.\n",
    "\n",
    "SELECT m.title, MAX(r.stars)\n",
    "FROM movie m \n",
    "JOIN rating r\n",
    "ON m.mID = r.mID\n",
    "WHERE r.stars >= 1\n",
    "GROUP BY m.title\n",
    "ORDER BY m.title;  "
   ]
  },
  {
   "cell_type": "code",
   "execution_count": null,
   "metadata": {},
   "outputs": [],
   "source": [
    "# 8. For each movie, return the title and \n",
    "# the 'rating spread', that is, the \n",
    "# difference between highest and lowest \n",
    "# ratings given to that movie. Sort by \n",
    "# rating spread from highest to lowest, \n",
    "# then by movie title.\n",
    "\n",
    "SELECT m.title, MAX(r.stars) - MIN(r.stars) AS \"Rating Spread\"\n",
    "FROM movie m\n",
    "JOIN rating r\n",
    "ON m.mID = r.mID\n",
    "GROUP BY m.title\n",
    "ORDER BY 2 DESC, 1;"
   ]
  },
  {
   "cell_type": "code",
   "execution_count": null,
   "metadata": {},
   "outputs": [],
   "source": [
    "# 9. Find the difference between the average \n",
    "# rating of movies released before 1980 \n",
    "# and the average rating of movies released \n",
    "# after 1980. (Make sure to calculate the \n",
    "# average rating for each movie, then the \n",
    "# average of those averages for movies before \n",
    "# 1980 and movies after. Don't just calculate \n",
    "# the overall average rating before and after 1980.)\n",
    "\n",
    "SELECT AVG(before1980.avg) - AVG(after1980.avg) AS difference\n",
    "FROM \n",
    "(SELECT AVG(r.stars) AS avg\n",
    "FROM movie m\n",
    "JOIN rating r\n",
    "ON m.mID = r.mID\n",
    "WHERE year < 1980\n",
    "GROUP BY m.title) AS before1980,\n",
    "(SELECT AVG(r.stars) AS avg\n",
    "FROM movie m\n",
    "JOIN rating r\n",
    "ON m.mID = r.mID\n",
    "WHERE year > 1980\n",
    "GROUP BY m.title) AS after1980;"
   ]
  }
 ],
 "metadata": {
  "kernelspec": {
   "display_name": "Python 3",
   "language": "python",
   "name": "python3"
  },
  "language_info": {
   "codemirror_mode": {
    "name": "ipython",
    "version": 3
   },
   "file_extension": ".py",
   "mimetype": "text/x-python",
   "name": "python",
   "nbconvert_exporter": "python",
   "pygments_lexer": "ipython3",
   "version": "3.7.4"
  }
 },
 "nbformat": 4,
 "nbformat_minor": 2
}
